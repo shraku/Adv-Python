{
 "cells": [
  {
   "cell_type": "code",
   "execution_count": 14,
   "id": "18c65c27-1a08-4f73-b0d0-f7914834d0b3",
   "metadata": {},
   "outputs": [
    {
     "data": {
      "text/plain": [
       "123"
      ]
     },
     "execution_count": 14,
     "metadata": {},
     "output_type": "execute_result"
    }
   ],
   "source": [
    " 56+67"
   ]
  },
  {
   "cell_type": "markdown",
   "id": "756ca625-042e-4cf3-84a9-ae570527fc81",
   "metadata": {},
   "source": [
    "# This is markdown\n",
    "- this is used for heading\n",
    "- it can be used for writing info"
   ]
  },
  {
   "cell_type": "markdown",
   "id": "7db79b68-f31e-468f-8087-68d75c2594d0",
   "metadata": {},
   "source": [
    "# Heading1 \n",
    "## Heading2 \n",
    "### Heading3\n",
    "#### Headings4\n",
    "##### Headding 5\n",
    "###### Heading 6\n",
    "1. This is number bullete point\n",
    "2. this is second bullete point"
   ]
  },
  {
   "cell_type": "raw",
   "id": "f802aafa-13d2-4e02-89af-5f0dd9bf5245",
   "metadata": {},
   "source": [
    "raw  -  heading this is used to write info only and heading will not be there\n",
    "\n",
    "\n",
    "run - Shift + enter , ctrl +enter \n",
    "add - + , a -adding above  , b - adding below\n",
    "delete - icon  , right click \n",
    "# Short cuts\n",
    "select entire - ctrl + a\n",
    "cut  - ctrl + x\n",
    "copy - ctrl c\n",
    "paste - ctrl v\n",
    "undo - ctrl + z\n",
    "34+78\n",
    "67=78"
   ]
  },
  {
   "cell_type": "code",
   "execution_count": null,
   "id": "7d17be7e-539a-4de3-9f35-ed123b06ceb0",
   "metadata": {},
   "outputs": [],
   "source": [
    "# what is python\n",
    "- it is high level , ineterpreted , dynamic programming langauge "
   ]
  },
  {
   "cell_type": "code",
   "execution_count": null,
   "id": "1a46e57c-1aa2-49fe-a7a1-f8eed7e9b964",
   "metadata": {},
   "outputs": [],
   "source": [
    "# why python \n",
    "- easy to use\n",
    "- user friendly \n",
    "- syntax same as english langauge\n",
    "- platfrom friendly\n",
    "- free to use \n",
    "-  providing more libraries"
   ]
  },
  {
   "cell_type": "markdown",
   "id": "b022c484-23db-440a-abda-b2e68883f61e",
   "metadata": {},
   "source": [
    "### Comment - this is information regarding your syntax\n",
    "- Single line comment  - #\n",
    "- Multi line comment  - \"\"\"     \"\"\""
   ]
  },
  {
   "cell_type": "code",
   "execution_count": 18,
   "id": "bf674a43-746b-4ab4-9def-985a859dfd80",
   "metadata": {},
   "outputs": [
    {
     "data": {
      "text/plain": [
       "124"
      ]
     },
     "execution_count": 18,
     "metadata": {},
     "output_type": "execute_result"
    }
   ],
   "source": [
    "# Perform addition of two numbers\n",
    "34 + 90"
   ]
  },
  {
   "cell_type": "code",
   "execution_count": null,
   "id": "344edb1f-8ec6-4899-8f23-b51279768182",
   "metadata": {},
   "outputs": [],
   "source": [
    "# perform addition of two numbers.\n",
    "# perform subtraction of two numbers.\n",
    "# perform multiplication of two numbers."
   ]
  },
  {
   "cell_type": "code",
   "execution_count": 20,
   "id": "2fae9c00-4bb4-4a1a-a8e4-a0d536580083",
   "metadata": {},
   "outputs": [
    {
     "data": {
      "text/plain": [
       "123"
      ]
     },
     "execution_count": 20,
     "metadata": {},
     "output_type": "execute_result"
    }
   ],
   "source": [
    "\"\"\"\n",
    "this is multi line comment\n",
    "i can write info in multiple line\n",
    "here perform addition\n",
    "\n",
    "\"\"\"\n",
    "34+89"
   ]
  },
  {
   "cell_type": "code",
   "execution_count": null,
   "id": "309578df-d20f-4bbb-9ea3-4222c44784a6",
   "metadata": {},
   "outputs": [],
   "source": [
    "# Variables - These are stored memory in python  \n",
    "- Stored location in python memory"
   ]
  },
  {
   "cell_type": "code",
   "execution_count": 22,
   "id": "afacbf78-364f-455b-b4df-d134721f24c1",
   "metadata": {},
   "outputs": [],
   "source": [
    "variable_name = value"
   ]
  },
  {
   "cell_type": "code",
   "execution_count": 24,
   "id": "041c88da-e938-4f41-a5d1-4d78c9874e35",
   "metadata": {},
   "outputs": [],
   "source": [
    "a = 23"
   ]
  },
  {
   "cell_type": "code",
   "execution_count": 26,
   "id": "9cb700b4-197b-4f67-a49e-9733f61869a7",
   "metadata": {},
   "outputs": [
    {
     "data": {
      "text/plain": [
       "23"
      ]
     },
     "execution_count": 26,
     "metadata": {},
     "output_type": "execute_result"
    }
   ],
   "source": [
    "a"
   ]
  },
  {
   "cell_type": "code",
   "execution_count": 28,
   "id": "bd7483c6-2ea0-4d56-841f-72fd7018de35",
   "metadata": {},
   "outputs": [
    {
     "data": {
      "text/plain": [
       "28"
      ]
     },
     "execution_count": 28,
     "metadata": {},
     "output_type": "execute_result"
    }
   ],
   "source": [
    "a +5"
   ]
  },
  {
   "cell_type": "code",
   "execution_count": 30,
   "id": "d7f28055-753c-4eee-81c9-f2624298b01b",
   "metadata": {},
   "outputs": [
    {
     "data": {
      "text/plain": [
       "17"
      ]
     },
     "execution_count": 30,
     "metadata": {},
     "output_type": "execute_result"
    }
   ],
   "source": [
    "a - 6"
   ]
  },
  {
   "cell_type": "code",
   "execution_count": 32,
   "id": "c7437f37-8dca-4a4f-aa02-a385b12ffce4",
   "metadata": {},
   "outputs": [],
   "source": [
    "name = 'Varsha'"
   ]
  },
  {
   "cell_type": "code",
   "execution_count": 34,
   "id": "116a1fce-1b7d-49dd-9d85-fc4512c81948",
   "metadata": {},
   "outputs": [
    {
     "data": {
      "text/plain": [
       "'Varsha'"
      ]
     },
     "execution_count": 34,
     "metadata": {},
     "output_type": "execute_result"
    }
   ],
   "source": [
    "name"
   ]
  },
  {
   "cell_type": "code",
   "execution_count": 36,
   "id": "8d5f779e-fe82-4bf0-9152-969ebf56a7bb",
   "metadata": {},
   "outputs": [],
   "source": [
    "# Rules for assigning variable name\n",
    "# variable can not start with number"
   ]
  },
  {
   "cell_type": "code",
   "execution_count": 38,
   "id": "787c6fed-905b-4143-ac2b-dc979d39553f",
   "metadata": {},
   "outputs": [
    {
     "ename": "SyntaxError",
     "evalue": "invalid decimal literal (3783252902.py, line 1)",
     "output_type": "error",
     "traceback": [
      "\u001b[1;36m  Cell \u001b[1;32mIn[38], line 1\u001b[1;36m\u001b[0m\n\u001b[1;33m    1name  = 'Varsha'\u001b[0m\n\u001b[1;37m    ^\u001b[0m\n\u001b[1;31mSyntaxError\u001b[0m\u001b[1;31m:\u001b[0m invalid decimal literal\n"
     ]
    }
   ],
   "source": [
    "1name  = 'Varsha'\n"
   ]
  },
  {
   "cell_type": "code",
   "execution_count": 40,
   "id": "eba7240d-0909-422d-b5ec-66151f9e23e3",
   "metadata": {},
   "outputs": [],
   "source": [
    "name1 = 'Varsha'"
   ]
  },
  {
   "cell_type": "code",
   "execution_count": 42,
   "id": "811c5751-0cbd-4038-9c6d-d4484f5a120d",
   "metadata": {},
   "outputs": [
    {
     "data": {
      "text/plain": [
       "'Varsha'"
      ]
     },
     "execution_count": 42,
     "metadata": {},
     "output_type": "execute_result"
    }
   ],
   "source": [
    "name1"
   ]
  },
  {
   "cell_type": "code",
   "execution_count": 44,
   "id": "1b33d13f-b581-4657-9fc4-dacf5176ad8e",
   "metadata": {},
   "outputs": [
    {
     "data": {
      "text/plain": [
       "'Seeta'"
      ]
     },
     "execution_count": 44,
     "metadata": {},
     "output_type": "execute_result"
    }
   ],
   "source": [
    "na1me = 'Seeta'\n",
    "na1me"
   ]
  },
  {
   "cell_type": "code",
   "execution_count": null,
   "id": "c8a70397-b9ae-4aa0-8642-9a4bc3ae3b83",
   "metadata": {},
   "outputs": [],
   "source": [
    "# varaible  name cant be contain space "
   ]
  },
  {
   "cell_type": "code",
   "execution_count": 46,
   "id": "fd143149-7a74-4356-90a3-e576c1959dfd",
   "metadata": {},
   "outputs": [
    {
     "ename": "SyntaxError",
     "evalue": "invalid syntax (2827804906.py, line 1)",
     "output_type": "error",
     "traceback": [
      "\u001b[1;36m  Cell \u001b[1;32mIn[46], line 1\u001b[1;36m\u001b[0m\n\u001b[1;33m    roll number = 45\u001b[0m\n\u001b[1;37m         ^\u001b[0m\n\u001b[1;31mSyntaxError\u001b[0m\u001b[1;31m:\u001b[0m invalid syntax\n"
     ]
    }
   ],
   "source": [
    "roll number = 45"
   ]
  },
  {
   "cell_type": "code",
   "execution_count": 48,
   "id": "891d2175-a513-45a8-aaf3-aa04f31df480",
   "metadata": {},
   "outputs": [],
   "source": [
    "roll_number = 45\n"
   ]
  },
  {
   "cell_type": "code",
   "execution_count": 50,
   "id": "54e2efa4-9253-4b29-90d4-979467d9fbb7",
   "metadata": {},
   "outputs": [
    {
     "data": {
      "text/plain": [
       "45"
      ]
     },
     "execution_count": 50,
     "metadata": {},
     "output_type": "execute_result"
    }
   ],
   "source": [
    "roll_number"
   ]
  },
  {
   "cell_type": "code",
   "execution_count": 52,
   "id": "caae04bd-865f-4562-97b5-9d7cfe100b22",
   "metadata": {},
   "outputs": [],
   "source": [
    "_name = 'GEETA'"
   ]
  },
  {
   "cell_type": "code",
   "execution_count": 54,
   "id": "6d857bad-5562-4784-8411-e7ac409b87bb",
   "metadata": {},
   "outputs": [
    {
     "data": {
      "text/plain": [
       "'GEETA'"
      ]
     },
     "execution_count": 54,
     "metadata": {},
     "output_type": "execute_result"
    }
   ],
   "source": [
    "_name"
   ]
  },
  {
   "cell_type": "code",
   "execution_count": 56,
   "id": "b41987a1-b91b-4d60-8c76-3e3ebc016644",
   "metadata": {},
   "outputs": [
    {
     "name": "stdout",
     "output_type": "stream",
     "text": [
      "GEETA\n"
     ]
    }
   ],
   "source": [
    "print(_name)"
   ]
  },
  {
   "cell_type": "code",
   "execution_count": 58,
   "id": "a860d30d-f9b8-4089-a123-14f135a629f7",
   "metadata": {},
   "outputs": [
    {
     "data": {
      "text/plain": [
       "'sunita'"
      ]
     },
     "execution_count": 58,
     "metadata": {},
     "output_type": "execute_result"
    }
   ],
   "source": [
    "name_ = 'sunita'\n",
    "name_"
   ]
  },
  {
   "cell_type": "code",
   "execution_count": 60,
   "id": "08d9b472-45b4-4082-966f-cac6732e0a03",
   "metadata": {},
   "outputs": [],
   "source": [
    "# variable name can not contain special character\n"
   ]
  },
  {
   "cell_type": "code",
   "execution_count": 62,
   "id": "3efdd675-4931-44a4-a8bc-64ed7fcb8a40",
   "metadata": {},
   "outputs": [
    {
     "ename": "SyntaxError",
     "evalue": "invalid syntax. Maybe you meant '==' or ':=' instead of '='? (2195916155.py, line 1)",
     "output_type": "error",
     "traceback": [
      "\u001b[1;36m  Cell \u001b[1;32mIn[62], line 1\u001b[1;36m\u001b[0m\n\u001b[1;33m    @name = 'Sushma'\u001b[0m\n\u001b[1;37m     ^\u001b[0m\n\u001b[1;31mSyntaxError\u001b[0m\u001b[1;31m:\u001b[0m invalid syntax. Maybe you meant '==' or ':=' instead of '='?\n"
     ]
    }
   ],
   "source": [
    "@name = 'Sushma'    #@"
   ]
  },
  {
   "cell_type": "code",
   "execution_count": 64,
   "id": "6bbbff65-aa99-48af-9ec2-adc374c63369",
   "metadata": {},
   "outputs": [
    {
     "ename": "SyntaxError",
     "evalue": "invalid syntax (582633126.py, line 1)",
     "output_type": "error",
     "traceback": [
      "\u001b[1;36m  Cell \u001b[1;32mIn[64], line 1\u001b[1;36m\u001b[0m\n\u001b[1;33m    &num = 23\u001b[0m\n\u001b[1;37m    ^\u001b[0m\n\u001b[1;31mSyntaxError\u001b[0m\u001b[1;31m:\u001b[0m invalid syntax\n"
     ]
    }
   ],
   "source": [
    "&num = 23"
   ]
  },
  {
   "cell_type": "code",
   "execution_count": 66,
   "id": "ed32a437-dee5-4c16-9ddc-209bf3e783e2",
   "metadata": {},
   "outputs": [
    {
     "name": "stderr",
     "output_type": "stream",
     "text": [
      "'num2' is not recognized as an internal or external command,\n",
      "operable program or batch file.\n"
     ]
    }
   ],
   "source": [
    "!num2 = 45"
   ]
  },
  {
   "cell_type": "code",
   "execution_count": 68,
   "id": "260772c3-4fdb-4ff7-b5aa-9f4e47e74d88",
   "metadata": {},
   "outputs": [],
   "source": [
    "# num5 = 78"
   ]
  },
  {
   "cell_type": "code",
   "execution_count": 70,
   "id": "ec90cdcb-c9e1-45ed-a0db-e4b7398aa669",
   "metadata": {},
   "outputs": [
    {
     "ename": "NameError",
     "evalue": "name 'num6' is not defined",
     "output_type": "error",
     "traceback": [
      "\u001b[1;31m---------------------------------------------------------------------------\u001b[0m",
      "\u001b[1;31mNameError\u001b[0m                                 Traceback (most recent call last)",
      "Cell \u001b[1;32mIn[70], line 1\u001b[0m\n\u001b[1;32m----> 1\u001b[0m num6\n",
      "\u001b[1;31mNameError\u001b[0m: name 'num6' is not defined"
     ]
    }
   ],
   "source": [
    "num6#  = 67"
   ]
  },
  {
   "cell_type": "code",
   "execution_count": 72,
   "id": "43539c2c-90f3-47da-a238-084142a1d45e",
   "metadata": {},
   "outputs": [],
   "source": [
    "# keywords -  these are special reserverd words in python which has certain predefined meaning"
   ]
  },
  {
   "cell_type": "code",
   "execution_count": 76,
   "id": "6ffb3009-9d16-4b8d-aeb0-b08b163de768",
   "metadata": {},
   "outputs": [
    {
     "name": "stdout",
     "output_type": "stream",
     "text": [
      "['False', 'None', 'True', 'and', 'as', 'assert', 'async', 'await', 'break', 'class', 'continue', 'def', 'del', 'elif', 'else', 'except', 'finally', 'for', 'from', 'global', 'if', 'import', 'in', 'is', 'lambda', 'nonlocal', 'not', 'or', 'pass', 'raise', 'return', 'try', 'while', 'with', 'yield']\n"
     ]
    }
   ],
   "source": [
    "import keyword\n",
    "print(keyword.kwlist)"
   ]
  },
  {
   "cell_type": "code",
   "execution_count": 78,
   "id": "8470a3d2-20b0-4573-ae8b-83a25f38f9cc",
   "metadata": {},
   "outputs": [
    {
     "ename": "SyntaxError",
     "evalue": "cannot assign to False (4064490624.py, line 1)",
     "output_type": "error",
     "traceback": [
      "\u001b[1;36m  Cell \u001b[1;32mIn[78], line 1\u001b[1;36m\u001b[0m\n\u001b[1;33m    False = 'Samita'\u001b[0m\n\u001b[1;37m    ^\u001b[0m\n\u001b[1;31mSyntaxError\u001b[0m\u001b[1;31m:\u001b[0m cannot assign to False\n"
     ]
    }
   ],
   "source": [
    "False = 'Samita'"
   ]
  },
  {
   "cell_type": "code",
   "execution_count": 80,
   "id": "ce662ab9-c867-4b7e-bfd9-2f75074cce32",
   "metadata": {},
   "outputs": [
    {
     "ename": "SyntaxError",
     "evalue": "invalid syntax (2574639438.py, line 1)",
     "output_type": "error",
     "traceback": [
      "\u001b[1;36m  Cell \u001b[1;32mIn[80], line 1\u001b[1;36m\u001b[0m\n\u001b[1;33m    if = 'Meet'\u001b[0m\n\u001b[1;37m       ^\u001b[0m\n\u001b[1;31mSyntaxError\u001b[0m\u001b[1;31m:\u001b[0m invalid syntax\n"
     ]
    }
   ],
   "source": [
    "if = 'Meet'"
   ]
  },
  {
   "cell_type": "code",
   "execution_count": 82,
   "id": "25a632b5-54d1-49b8-8adf-b26ce6f636c6",
   "metadata": {},
   "outputs": [
    {
     "ename": "SyntaxError",
     "evalue": "invalid syntax (1912407105.py, line 1)",
     "output_type": "error",
     "traceback": [
      "\u001b[1;36m  Cell \u001b[1;32mIn[82], line 1\u001b[1;36m\u001b[0m\n\u001b[1;33m    lambda = 'function'\u001b[0m\n\u001b[1;37m           ^\u001b[0m\n\u001b[1;31mSyntaxError\u001b[0m\u001b[1;31m:\u001b[0m invalid syntax\n"
     ]
    }
   ],
   "source": [
    "lambda = 'function'"
   ]
  },
  {
   "cell_type": "code",
   "execution_count": 84,
   "id": "7cfa9ea5-0fb5-4423-9719-bfc55627f299",
   "metadata": {},
   "outputs": [
    {
     "data": {
      "text/plain": [
       "35"
      ]
     },
     "execution_count": 84,
     "metadata": {},
     "output_type": "execute_result"
    }
   ],
   "source": [
    "len(keyword.kwlist)"
   ]
  },
  {
   "cell_type": "code",
   "execution_count": null,
   "id": "5378ad24-eaea-4cdc-9f59-d9db2297fa77",
   "metadata": {},
   "outputs": [],
   "source": [
    "# sinle variable assignment"
   ]
  },
  {
   "cell_type": "code",
   "execution_count": 102,
   "id": "7ce82196-11cd-4120-b660-1b712d6ad478",
   "metadata": {},
   "outputs": [],
   "source": [
    "num1 =56\n",
    "num2 =78"
   ]
  },
  {
   "cell_type": "code",
   "execution_count": 104,
   "id": "defe98c7-6440-4442-aad0-d83a177c8823",
   "metadata": {},
   "outputs": [
    {
     "name": "stdout",
     "output_type": "stream",
     "text": [
      "56\n",
      "78\n"
     ]
    }
   ],
   "source": [
    "print(num1)\n",
    "print(num2)"
   ]
  },
  {
   "cell_type": "code",
   "execution_count": 106,
   "id": "3f1c5ef4-d349-4b8e-b206-aec3ac80eefb",
   "metadata": {},
   "outputs": [
    {
     "name": "stdout",
     "output_type": "stream",
     "text": [
      "56 78\n"
     ]
    }
   ],
   "source": [
    "print(num1 ,num2)"
   ]
  },
  {
   "cell_type": "code",
   "execution_count": 110,
   "id": "4e72e01b-d55a-4fcf-9023-354c1ae81c74",
   "metadata": {},
   "outputs": [
    {
     "name": "stdout",
     "output_type": "stream",
     "text": [
      "56 , 78\n"
     ]
    }
   ],
   "source": [
    "print(num1 ,  num2 ,sep = ' , ' )"
   ]
  },
  {
   "cell_type": "code",
   "execution_count": 112,
   "id": "7d089831-196d-42aa-82fd-4cbcb9aa17c5",
   "metadata": {},
   "outputs": [],
   "source": [
    "num3 , num4  = 45.12 , 89.32"
   ]
  },
  {
   "cell_type": "code",
   "execution_count": 114,
   "id": "a6c09999-8699-4b27-9e97-e5e2268a9fbf",
   "metadata": {},
   "outputs": [
    {
     "name": "stdout",
     "output_type": "stream",
     "text": [
      "num3 is 45.12\n",
      "num4 is 89.32\n"
     ]
    }
   ],
   "source": [
    "print('num3 is' , num3)\n",
    "print('num4 is' , num4)"
   ]
  },
  {
   "cell_type": "code",
   "execution_count": 116,
   "id": "dfc0d4aa-8157-40c1-85bb-d1ad42b861ab",
   "metadata": {},
   "outputs": [
    {
     "name": "stdout",
     "output_type": "stream",
     "text": [
      "name1 is--> Prajkta\n",
      "name2 is--> Pradnya\n",
      "name3 is--> Sandhya\n"
     ]
    }
   ],
   "source": [
    "name1 , name2 , name3 = 'Prajkta'  ,'Pradnya' , 'Sandhya'\n",
    "print('name1 is-->' ,name1)\n",
    "print('name2 is-->' ,name2)\n",
    "print('name3 is-->' ,name3)"
   ]
  },
  {
   "cell_type": "code",
   "execution_count": 118,
   "id": "4041e155-f25f-44af-bd0a-c428c4303566",
   "metadata": {},
   "outputs": [],
   "source": [
    "n1 ,n2 ,n3 ,n4 = 40,40,40,40"
   ]
  },
  {
   "cell_type": "code",
   "execution_count": 120,
   "id": "5f55cc60-ee6f-4d00-8989-e724c5b9311c",
   "metadata": {},
   "outputs": [
    {
     "name": "stdout",
     "output_type": "stream",
     "text": [
      "40 40 40 40\n"
     ]
    }
   ],
   "source": [
    "print(n1 ,n2,n3,n4)"
   ]
  },
  {
   "cell_type": "code",
   "execution_count": 122,
   "id": "5fae191e-a192-4616-8502-96059deedbcb",
   "metadata": {},
   "outputs": [],
   "source": [
    "n1 = n2 =n3 = n4 = 40\n"
   ]
  },
  {
   "cell_type": "code",
   "execution_count": 126,
   "id": "8b8c83fb-0462-4f00-8fbc-96a02e995293",
   "metadata": {},
   "outputs": [],
   "source": [
    "int7 = 67"
   ]
  },
  {
   "cell_type": "code",
   "execution_count": 128,
   "id": "675331be-43b1-4871-927d-6270dd40b126",
   "metadata": {},
   "outputs": [],
   "source": [
    "int8 = int7"
   ]
  },
  {
   "cell_type": "code",
   "execution_count": 130,
   "id": "a1ad3da2-0dcf-41ef-b3a9-1017e76c91e2",
   "metadata": {},
   "outputs": [
    {
     "name": "stdout",
     "output_type": "stream",
     "text": [
      "67\n"
     ]
    }
   ],
   "source": [
    "print(int8)"
   ]
  },
  {
   "cell_type": "code",
   "execution_count": 132,
   "id": "85533341-b6f7-4231-80d5-1cc4d59cec5d",
   "metadata": {},
   "outputs": [
    {
     "name": "stdout",
     "output_type": "stream",
     "text": [
      "67\n"
     ]
    }
   ],
   "source": [
    "print(int7)"
   ]
  },
  {
   "cell_type": "code",
   "execution_count": 11,
   "id": "29d4d0dc-391c-4b58-96cc-19658c5162d6",
   "metadata": {},
   "outputs": [
    {
     "data": {
      "text/plain": [
       "9"
      ]
     },
     "execution_count": 11,
     "metadata": {},
     "output_type": "execute_result"
    }
   ],
   "source": [
    "5 + 4"
   ]
  },
  {
   "cell_type": "code",
   "execution_count": null,
   "id": "28828aa9-98f1-419c-90bc-856c316f2b21",
   "metadata": {},
   "outputs": [],
   "source": [
    "# Indetifiers - these are name given to variables , classes , function "
   ]
  },
  {
   "cell_type": "code",
   "execution_count": null,
   "id": "839b1f95-fc74-4abe-92db-75bf8c497133",
   "metadata": {},
   "outputs": [],
   "source": [
    "# data Type - Nature of data\n",
    "- int  - -1,-2,-3 ... 0 , 1,2,3..\n",
    "- float - 23.45 ,57.7 ,78.9..."
   ]
  },
  {
   "cell_type": "code",
   "execution_count": 88,
   "id": "be040912-26f6-42d4-bcf2-4e9e5c56569f",
   "metadata": {},
   "outputs": [
    {
     "data": {
      "text/plain": [
       "int"
      ]
     },
     "execution_count": 88,
     "metadata": {},
     "output_type": "execute_result"
    }
   ],
   "source": [
    "int1 = 23\n",
    "type(int1)"
   ]
  },
  {
   "cell_type": "code",
   "execution_count": 90,
   "id": "db9701ee-e5c8-4cba-ad48-236312454c41",
   "metadata": {},
   "outputs": [
    {
     "data": {
      "text/plain": [
       "int"
      ]
     },
     "execution_count": 90,
     "metadata": {},
     "output_type": "execute_result"
    }
   ],
   "source": [
    "int2 = 0\n",
    "type(int2)"
   ]
  },
  {
   "cell_type": "code",
   "execution_count": 92,
   "id": "72d90bb5-6e27-4db0-9303-0b2eab4c5f73",
   "metadata": {},
   "outputs": [
    {
     "data": {
      "text/plain": [
       "int"
      ]
     },
     "execution_count": 92,
     "metadata": {},
     "output_type": "execute_result"
    }
   ],
   "source": [
    "int3 = -6534689703213\n",
    "type(int3)"
   ]
  },
  {
   "cell_type": "code",
   "execution_count": 94,
   "id": "920a3bc2-479a-4cb1-8800-cb5cbd2e3a29",
   "metadata": {},
   "outputs": [
    {
     "data": {
      "text/plain": [
       "float"
      ]
     },
     "execution_count": 94,
     "metadata": {},
     "output_type": "execute_result"
    }
   ],
   "source": [
    "f1 = 67.89\n",
    "type(67.89)"
   ]
  },
  {
   "cell_type": "code",
   "execution_count": 96,
   "id": "81324af1-fafa-4aec-ae9a-7f2a3d800581",
   "metadata": {},
   "outputs": [
    {
     "data": {
      "text/plain": [
       "float"
      ]
     },
     "execution_count": 96,
     "metadata": {},
     "output_type": "execute_result"
    }
   ],
   "source": [
    "f2 = -67.12\n",
    "type(f2)"
   ]
  },
  {
   "cell_type": "code",
   "execution_count": 98,
   "id": "a3739d14-1bc8-4d9d-9bdf-506f84dbbc3f",
   "metadata": {},
   "outputs": [
    {
     "data": {
      "text/plain": [
       "float"
      ]
     },
     "execution_count": 98,
     "metadata": {},
     "output_type": "execute_result"
    }
   ],
   "source": [
    "f3 = 0.0\n",
    "type(f3)"
   ]
  },
  {
   "cell_type": "code",
   "execution_count": null,
   "id": "81716296-51cc-4086-9608-2cea460e9df1",
   "metadata": {},
   "outputs": [],
   "source": [
    "# Complex  - a+bj\n",
    "a - real part\n",
    "b - imagimaginary part\n",
    "j - complex part"
   ]
  },
  {
   "cell_type": "code",
   "execution_count": 100,
   "id": "203d4052-4724-4cfb-a985-0d5f88707bba",
   "metadata": {},
   "outputs": [
    {
     "data": {
      "text/plain": [
       "complex"
      ]
     },
     "execution_count": 100,
     "metadata": {},
     "output_type": "execute_result"
    }
   ],
   "source": [
    "c1 = 4+89j\n",
    "type(c1)"
   ]
  },
  {
   "cell_type": "code",
   "execution_count": null,
   "id": "4ed33736-59f7-40ef-b6ea-8d7a4c6f3550",
   "metadata": {},
   "outputs": [],
   "source": [
    "# Boolean  - True , False\n"
   ]
  },
  {
   "cell_type": "code",
   "execution_count": 134,
   "id": "8627d1f4-e29e-4e5f-be57-f8857c83dadd",
   "metadata": {},
   "outputs": [
    {
     "data": {
      "text/plain": [
       "True"
      ]
     },
     "execution_count": 134,
     "metadata": {},
     "output_type": "execute_result"
    }
   ],
   "source": [
    "b1 = True\n",
    "b1"
   ]
  },
  {
   "cell_type": "code",
   "execution_count": 136,
   "id": "02462ed9-f019-420b-9520-48dfc56e5022",
   "metadata": {},
   "outputs": [
    {
     "data": {
      "text/plain": [
       "bool"
      ]
     },
     "execution_count": 136,
     "metadata": {},
     "output_type": "execute_result"
    }
   ],
   "source": [
    "type(b1)"
   ]
  },
  {
   "cell_type": "code",
   "execution_count": 138,
   "id": "2f19176d-47fd-4e5e-a500-39339c83c1d3",
   "metadata": {},
   "outputs": [
    {
     "data": {
      "text/plain": [
       "bool"
      ]
     },
     "execution_count": 138,
     "metadata": {},
     "output_type": "execute_result"
    }
   ],
   "source": [
    "b2 = False\n",
    "type(b2)"
   ]
  },
  {
   "cell_type": "code",
   "execution_count": 140,
   "id": "7158707a-079b-482d-b9f4-7a33aed3de7b",
   "metadata": {},
   "outputs": [
    {
     "ename": "NameError",
     "evalue": "name 'true' is not defined",
     "output_type": "error",
     "traceback": [
      "\u001b[1;31m---------------------------------------------------------------------------\u001b[0m",
      "\u001b[1;31mNameError\u001b[0m                                 Traceback (most recent call last)",
      "Cell \u001b[1;32mIn[140], line 1\u001b[0m\n\u001b[1;32m----> 1\u001b[0m b3 \u001b[38;5;241m=\u001b[39m true\n",
      "\u001b[1;31mNameError\u001b[0m: name 'true' is not defined"
     ]
    }
   ],
   "source": [
    "b3 = true\n"
   ]
  },
  {
   "cell_type": "code",
   "execution_count": 142,
   "id": "52529b41-7b04-41fd-b1a2-6cbaa28d7213",
   "metadata": {},
   "outputs": [
    {
     "ename": "NameError",
     "evalue": "name 'false' is not defined",
     "output_type": "error",
     "traceback": [
      "\u001b[1;31m---------------------------------------------------------------------------\u001b[0m",
      "\u001b[1;31mNameError\u001b[0m                                 Traceback (most recent call last)",
      "Cell \u001b[1;32mIn[142], line 1\u001b[0m\n\u001b[1;32m----> 1\u001b[0m b4 \u001b[38;5;241m=\u001b[39m false\n",
      "\u001b[1;31mNameError\u001b[0m: name 'false' is not defined"
     ]
    }
   ],
   "source": [
    "b4 = false"
   ]
  },
  {
   "cell_type": "code",
   "execution_count": 146,
   "id": "ad82f287-ed48-49e4-8e9a-7e6a6171bdcb",
   "metadata": {},
   "outputs": [],
   "source": [
    "# string - collection of characters\n",
    "#collection of sequence of characters"
   ]
  },
  {
   "cell_type": "code",
   "execution_count": null,
   "id": "c5dd82a0-0d72-4237-b867-703f67db971e",
   "metadata": {},
   "outputs": [],
   "source": [
    "symbol  = '' ,\" \" ,\"\"\" \"\"\""
   ]
  },
  {
   "cell_type": "code",
   "execution_count": 148,
   "id": "e358f5a1-863d-4bd6-93b7-5224f27b7681",
   "metadata": {},
   "outputs": [
    {
     "data": {
      "text/plain": [
       "str"
      ]
     },
     "execution_count": 148,
     "metadata": {},
     "output_type": "execute_result"
    }
   ],
   "source": [
    "s1 = ''\n",
    "type(s1)"
   ]
  },
  {
   "cell_type": "code",
   "execution_count": 150,
   "id": "2b36e0c7-0d4c-47a2-a640-0538720c7941",
   "metadata": {},
   "outputs": [
    {
     "data": {
      "text/plain": [
       "str"
      ]
     },
     "execution_count": 150,
     "metadata": {},
     "output_type": "execute_result"
    }
   ],
   "source": [
    "s2 =\"\"\n",
    "type(s2)"
   ]
  },
  {
   "cell_type": "code",
   "execution_count": 152,
   "id": "57e45942-02bf-4788-93a5-e8570dacecab",
   "metadata": {},
   "outputs": [
    {
     "data": {
      "text/plain": [
       "str"
      ]
     },
     "execution_count": 152,
     "metadata": {},
     "output_type": "execute_result"
    }
   ],
   "source": [
    "s3 = \"\"\"\"\"\"\n",
    "type(s3)"
   ]
  },
  {
   "cell_type": "code",
   "execution_count": 154,
   "id": "9b631274-3bfd-444d-9d30-3baae1f07e56",
   "metadata": {},
   "outputs": [
    {
     "data": {
      "text/plain": [
       "str"
      ]
     },
     "execution_count": 154,
     "metadata": {},
     "output_type": "execute_result"
    }
   ],
   "source": [
    "name = 'Varsha' \n",
    "type(name)"
   ]
  },
  {
   "cell_type": "code",
   "execution_count": null,
   "id": "2e3b0cf6-b458-4ae2-82c6-484fefdc5cd2",
   "metadata": {},
   "outputs": [],
   "source": [
    "email = ''"
   ]
  }
 ],
 "metadata": {
  "kernelspec": {
   "display_name": "Python [conda env:base] *",
   "language": "python",
   "name": "conda-base-py"
  },
  "language_info": {
   "codemirror_mode": {
    "name": "ipython",
    "version": 3
   },
   "file_extension": ".py",
   "mimetype": "text/x-python",
   "name": "python",
   "nbconvert_exporter": "python",
   "pygments_lexer": "ipython3",
   "version": "3.12.7"
  }
 },
 "nbformat": 4,
 "nbformat_minor": 5
}
